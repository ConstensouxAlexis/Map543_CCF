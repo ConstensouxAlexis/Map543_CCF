{
 "cells": [
  {
   "cell_type": "code",
   "execution_count": 1,
   "id": "23eeaa75",
   "metadata": {},
   "outputs": [
    {
     "name": "stdout",
     "output_type": "stream",
     "text": [
      "23/04/17 01:34:13 WARN Utils: Your hostname, kimura.local resolves to a loopback address: 127.0.0.1; using 192.168.0.28 instead (on interface en0)\n",
      "23/04/17 01:34:13 WARN Utils: Set SPARK_LOCAL_IP if you need to bind to another address\n"
     ]
    },
    {
     "name": "stderr",
     "output_type": "stream",
     "text": [
      "Setting default log level to \"WARN\".\n",
      "To adjust logging level use sc.setLogLevel(newLevel). For SparkR, use setLogLevel(newLevel).\n"
     ]
    },
    {
     "name": "stdout",
     "output_type": "stream",
     "text": [
      "23/04/17 01:34:14 WARN NativeCodeLoader: Unable to load native-hadoop library for your platform... using builtin-java classes where applicable\n",
      "23/04/17 01:34:15 WARN Utils: Service 'SparkUI' could not bind on port 4040. Attempting port 4041.\n",
      "23/04/17 01:34:15 WARN Utils: Service 'SparkUI' could not bind on port 4041. Attempting port 4042.\n",
      "23/04/17 01:34:15 WARN Utils: Service 'SparkUI' could not bind on port 4042. Attempting port 4043.\n",
      "23/04/17 01:34:15 WARN Utils: Service 'SparkUI' could not bind on port 4043. Attempting port 4044.\n",
      "23/04/17 01:34:15 WARN Utils: Service 'SparkUI' could not bind on port 4044. Attempting port 4045.\n",
      "23/04/17 01:34:15 WARN Utils: Service 'SparkUI' could not bind on port 4045. Attempting port 4046.\n",
      "23/04/17 01:34:15 WARN Utils: Service 'SparkUI' could not bind on port 4046. Attempting port 4047.\n",
      "23/04/17 01:34:15 WARN Utils: Service 'SparkUI' could not bind on port 4047. Attempting port 4048.\n",
      "23/04/17 01:34:15 WARN Utils: Service 'SparkUI' could not bind on port 4048. Attempting port 4049.\n",
      "23/04/17 01:34:15 WARN Utils: Service 'SparkUI' could not bind on port 4049. Attempting port 4050.\n"
     ]
    }
   ],
   "source": [
    "from pyspark import SparkContext, SparkConf\n",
    "import time\n",
    "conf = SparkConf().setAppName(\"fccRDD\")\n",
    "sc = SparkContext(conf=conf)\n",
    "rdd = sc.parallelize([(0,1),(1,2),(1,3),(3,4),(5,6),(6,7),(7,8)])"
   ]
  },
  {
   "cell_type": "code",
   "execution_count": 2,
   "id": "21f8c52c",
   "metadata": {},
   "outputs": [],
   "source": [
    "def mapper(rdd):\n",
    "    mapped = rdd.flatMap(lambda x: ((x[0],x[1]),(x[1],x[0])))\n",
    "    mapped = mapped.groupByKey().mapValues(list).partitionBy(100).cache()\n",
    "    return mapped.map(lambda x: (int(x[0]), list(map(int, x[1]))))\n",
    "\n",
    "def reducer(edges):\n",
    "    key, values = edges\n",
    "    valueList, emit = [], []\n",
    "    minim = min(values)\n",
    "    valueList.extend(values)\n",
    "    \n",
    "    if  key <= minim:\n",
    "        return [], 0\n",
    "    \n",
    "    emit.append((key, minim))\n",
    "    for value in valueList:\n",
    "        if minim != value:\n",
    "            emit.append((value, minim))\n",
    "    \n",
    "    return emit, len(emit)-1"
   ]
  },
  {
   "cell_type": "code",
   "execution_count": 3,
   "id": "eca67226",
   "metadata": {},
   "outputs": [],
   "source": [
    "def find_ccp(rdd) :\n",
    "\n",
    "    start, count, iterations = time.time(), 1, 0\n",
    "\n",
    "    while count > 0:\n",
    "        #CCFiterate\n",
    "        mapp = mapper(rdd)\n",
    "        reduce = mapp.map(lambda x: reducer(x))\n",
    "        count = reduce.map(lambda x: x[1]).reduce(lambda x, y : x + y)\n",
    "        result_reducer = reduce.flatMap(lambda x: x[0])\n",
    "        \n",
    "        #CCFdedup\n",
    "        rdd = result_reducer.distinct()\n",
    "        iterations+=1\n",
    "\n",
    "\n",
    "    time_spent = time.time() - start\n",
    "    \n",
    "    print(\"time: \", time_spent)\n",
    "    print(\"number of iterations:\", iterations)\n",
    "    print(rdd.collect())"
   ]
  },
  {
   "cell_type": "code",
   "execution_count": 4,
   "id": "e957d159",
   "metadata": {},
   "outputs": [
    {
     "name": "stderr",
     "output_type": "stream",
     "text": [
      "                                                                                \r"
     ]
    },
    {
     "name": "stdout",
     "output_type": "stream",
     "text": [
      "time:  12.763375282287598\n",
      "number of iterations: 4\n",
      "[(4, 0), (8, 5), (7, 5), (6, 5), (1, 0), (2, 0), (3, 0)]\n"
     ]
    }
   ],
   "source": [
    "find_ccp(rdd)"
   ]
  },
  {
   "cell_type": "code",
   "execution_count": null,
   "id": "437329d8",
   "metadata": {},
   "outputs": [],
   "source": []
  }
 ],
 "metadata": {
  "kernelspec": {
   "display_name": "Python 3 (ipykernel)",
   "language": "python",
   "name": "python3"
  },
  "language_info": {
   "codemirror_mode": {
    "name": "ipython",
    "version": 3
   },
   "file_extension": ".py",
   "mimetype": "text/x-python",
   "name": "python",
   "nbconvert_exporter": "python",
   "pygments_lexer": "ipython3",
   "version": "3.9.13"
  }
 },
 "nbformat": 4,
 "nbformat_minor": 5
}
